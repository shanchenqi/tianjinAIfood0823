{
 "cells": [
  {
   "cell_type": "code",
   "execution_count": 1,
   "metadata": {},
   "outputs": [],
   "source": [
    "from __future__ import print_function, division\n",
    "\n",
    "import torch\n",
    "import torch.nn as nn\n",
    "import torch.optim as optim\n",
    "from torch.optim import lr_scheduler\n",
    "from torch.autograd import Variable\n",
    "import torchvision\n",
    "from torchvision import datasets, models, transforms\n",
    "import time\n",
    "import os\n",
    "\n",
    "import sampler"
   ]
  },
  {
   "cell_type": "code",
   "execution_count": 2,
   "metadata": {},
   "outputs": [
    {
     "name": "stderr",
     "output_type": "stream",
     "text": [
      "Downloading: \"https://download.pytorch.org/models/resnet50-19c8e357.pth\" to /home/ma-user/.torch/models/resnet50-19c8e357.pth\n",
      "100%|██████████| 102502400/102502400 [14:15<00:00, 119881.15it/s]\n"
     ]
    }
   ],
   "source": [
    "resnet= models.resnet50(pretrained=True)\n",
    "num_ftrs = resnet.fc.in_features\n",
    "resnet.fc = nn.Linear(num_ftrs, 75)\n",
    "resnet.load_state_dict(torch.load('./model75.pth'))"
   ]
  },
  {
   "cell_type": "code",
   "execution_count": 3,
   "metadata": {},
   "outputs": [],
   "source": [
    "num_ftrs = resnet.fc.in_features\n",
    "resnet.fc = nn.Linear(num_ftrs, 25)"
   ]
  },
  {
   "cell_type": "code",
   "execution_count": 4,
   "metadata": {},
   "outputs": [],
   "source": [
    "dataTrans = transforms.Compose([\n",
    "            transforms.RandomHorizontalFlip(),\n",
    "            transforms.ColorJitter(brightness=0.5, contrast=0.5, hue=0.5),\n",
    "            transforms.RandomCrop(96),\n",
    "            transforms.Resize(256),\n",
    "            transforms.CenterCrop(224),\n",
    "            transforms.ToTensor(),\n",
    "            transforms.Normalize([0.5, 0.5, 0.5], [0.5, 0.5, 0.5])\n",
    "        ])\n",
    " \n",
    "    # image data path\n",
    "def loaddata():\n",
    "    data_dir = './images2/images2'\n",
    "    all_image_datasets = datasets.ImageFolder(data_dir, dataTrans)\n",
    "    \n",
    "    trainsize = int(0.9*len(all_image_datasets))\n",
    "    testsize = len(all_image_datasets) - trainsize\n",
    "    train_dataset, test_dataset = torch.utils.data.random_split(all_image_datasets,[trainsize,testsize])\n",
    "    \n",
    "    image_datasets = {'train':train_dataset,'val':test_dataset}\n",
    "    \n",
    "\n",
    "    # wrap your data and label into Tensor\n",
    "    dataloders = {\n",
    "        'train':torch.utils.data.DataLoader(train_dataset,\n",
    "                                        batch_size=64,\n",
    "                                        shuffle=True,\n",
    "                                        num_workers=4,\n",
    "                                       # sampler=sampler.ImbalancedDatasetSampler(train_dataset.dataset)\n",
    "                                                      ),\n",
    "        'val':torch.utils.data.DataLoader(test_dataset,\n",
    "                                        batch_size=64,\n",
    "                                              shuffle=True,\n",
    "                                              num_workers=4)\n",
    "            }\n",
    "    \n",
    "    dataloders = {x: torch.utils.data.DataLoader(image_datasets[x],\n",
    "                                                 batch_size=64,\n",
    "                                                 shuffle=True,\n",
    "                                                 num_workers=4) for x in ['train', 'val']}\n",
    "\n",
    "    dataset_sizes = {x: len(image_datasets[x]) for x in ['train', 'val']}\n",
    "    return dataloders,dataset_sizes\n",
    "    # use gpu or not\n",
    "use_gpu = torch.cuda.is_available()"
   ]
  },
  {
   "cell_type": "code",
   "execution_count": 5,
   "metadata": {},
   "outputs": [],
   "source": [
    "def train_model(model, lossfunc, optimizer, scheduler, num_epochs=10):\n",
    "    start_time = time.time()\n",
    "\n",
    "    best_model_wts = model.state_dict()\n",
    "    best_acc = 0.0\n",
    "\n",
    "    for epoch in range(num_epochs):\n",
    "        print('Epoch {}/{}'.format(epoch, num_epochs - 1))\n",
    "        print('-' * 10)\n",
    "        \n",
    "       # dataloders,dataset_sizes=loaddata()\n",
    "        print(dataloders['val'])\n",
    "        print(len(dataloders['val']))\n",
    "\n",
    "        # Each epoch has a training and validation phase\n",
    "        for phase in ['train', 'val']:\n",
    "            if phase == 'train':\n",
    "                scheduler.step()\n",
    "                model.train(True)  # Set model to training mode\n",
    "            else:\n",
    "                model.train(False)  # Set model to evaluate mode\n",
    "\n",
    "            running_loss = 0.0\n",
    "            running_corrects = 0.0\n",
    "\n",
    "            # Iterate over data.\n",
    "            for data in dataloders[phase]:\n",
    "                # get the inputs\n",
    "                inputs, labels = data\n",
    "\n",
    "                # wrap them in Variable\n",
    "                if use_gpu:\n",
    "                    inputs = Variable(inputs.cuda())\n",
    "                    labels = Variable(labels.cuda())\n",
    "                else:\n",
    "                    inputs, labels = Variable(inputs), Variable(labels)\n",
    "\n",
    "                # zero the parameter gradients\n",
    "                optimizer.zero_grad()\n",
    "\n",
    "                # forward\n",
    "                outputs = model(inputs)\n",
    "                _, preds = torch.max(outputs.data, 1)\n",
    "                loss = lossfunc(outputs, labels)\n",
    "\n",
    "                # backward + optimize only if in training phase\n",
    "                if phase == 'train':\n",
    "                    loss.backward()\n",
    "                    optimizer.step()\n",
    "\n",
    "                # statistics\n",
    "                running_loss += loss.data\n",
    "                running_corrects += torch.sum(preds == labels.data).to(torch.float32)\n",
    "\n",
    "            epoch_loss = running_loss / dataset_sizes[phase]\n",
    "            epoch_acc = running_corrects / dataset_sizes[phase]\n",
    "\n",
    "            print('{} Loss: {:.4f} Acc: {:.4f}'.format(\n",
    "                phase, epoch_loss, epoch_acc))\n",
    "\n",
    "            # deep copy the model\n",
    "            if phase == 'val' and epoch_acc > best_acc:\n",
    "                best_acc = epoch_acc\n",
    "                best_model_wts = model.state_dict()\n",
    "\n",
    "    elapsed_time = time.time() - start_time\n",
    "    print('Training complete in {:.0f}m {:.0f}s'.format(\n",
    "        elapsed_time // 60, elapsed_time % 60))\n",
    "    print('Best val Acc: {:4f}'.format(best_acc))\n",
    "\n",
    "    # load best model weights\n",
    "    model.load_state_dict(best_model_wts)\n",
    "  \n",
    "    return model\n"
   ]
  },
  {
   "cell_type": "code",
   "execution_count": 6,
   "metadata": {},
   "outputs": [],
   "source": [
    "dataloders,dataset_sizes=loaddata()"
   ]
  },
  {
   "cell_type": "code",
   "execution_count": null,
   "metadata": {
    "scrolled": true
   },
   "outputs": [
    {
     "name": "stdout",
     "output_type": "stream",
     "text": [
      "Epoch 0/39\n",
      "----------\n",
      "<torch.utils.data.dataloader.DataLoader object at 0x7f76cc39ba90>\n",
      "13\n",
      "train Loss: 0.0403 Acc: 0.3482\n",
      "val Loss: 0.0384 Acc: 0.3862\n",
      "Epoch 1/39\n",
      "----------\n",
      "<torch.utils.data.dataloader.DataLoader object at 0x7f76cc39ba90>\n",
      "13\n",
      "train Loss: 0.0339 Acc: 0.4211\n",
      "val Loss: 0.0331 Acc: 0.4491\n",
      "Epoch 2/39\n",
      "----------\n",
      "<torch.utils.data.dataloader.DataLoader object at 0x7f76cc39ba90>\n",
      "13\n",
      "train Loss: 0.0293 Acc: 0.4938\n",
      "val Loss: 0.0283 Acc: 0.5409\n",
      "Epoch 3/39\n",
      "----------\n",
      "<torch.utils.data.dataloader.DataLoader object at 0x7f76cc39ba90>\n",
      "13\n",
      "train Loss: 0.0257 Acc: 0.5499\n",
      "val Loss: 0.0243 Acc: 0.6038\n",
      "Epoch 4/39\n",
      "----------\n",
      "<torch.utils.data.dataloader.DataLoader object at 0x7f76cc39ba90>\n",
      "13\n",
      "train Loss: 0.0230 Acc: 0.5950\n",
      "val Loss: 0.0223 Acc: 0.6176\n",
      "Epoch 5/39\n",
      "----------\n",
      "<torch.utils.data.dataloader.DataLoader object at 0x7f76cc39ba90>\n",
      "13\n"
     ]
    }
   ],
   "source": [
    "if use_gpu:\n",
    "    resnet = resnet.cuda()\n",
    "\n",
    "    # define loss function\n",
    "lossfunc = nn.CrossEntropyLoss()\n",
    "\n",
    "    # setting optimizer and trainable parameters\n",
    "params = list(resnet.parameters())\n",
    "#params = list(resnet.fc.parameters())+list(resnet.layer4.parameters())\n",
    "optimizer_ft = optim.SGD(params, lr=0.001, momentum=0.9)\n",
    "\n",
    "    # Decay LR by a factor of 0.1 every 7 epochs\n",
    "exp_lr_scheduler = lr_scheduler.StepLR(optimizer_ft, step_size=7, gamma=0.1)\n",
    "\n",
    "model_ft = train_model(model=resnet,\n",
    "                           lossfunc=lossfunc,\n",
    "                           optimizer=optimizer_ft,\n",
    "                           scheduler=exp_lr_scheduler,\n",
    "                           num_epochs=40)"
   ]
  },
  {
   "cell_type": "code",
   "execution_count": null,
   "metadata": {},
   "outputs": [],
   "source": []
  },
  {
   "cell_type": "code",
   "execution_count": null,
   "metadata": {},
   "outputs": [],
   "source": [
    "torch.save(resnet.state_dict(), './model25.pth') "
   ]
  }
 ],
 "metadata": {
  "kernelspec": {
   "display_name": "Pytorch-1.0.0",
   "language": "python",
   "name": "pytorch-1.0.0"
  },
  "language_info": {
   "codemirror_mode": {
    "name": "ipython",
    "version": 3
   },
   "file_extension": ".py",
   "mimetype": "text/x-python",
   "name": "python",
   "nbconvert_exporter": "python",
   "pygments_lexer": "ipython3",
   "version": "3.6.4"
  }
 },
 "nbformat": 4,
 "nbformat_minor": 2
}
