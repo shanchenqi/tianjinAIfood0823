{
 "cells": [
  {
   "cell_type": "code",
   "execution_count": 1,
   "metadata": {},
   "outputs": [
    {
     "ename": "ModuleNotFoundError",
     "evalue": "No module named 'keras'",
     "output_type": "error",
     "traceback": [
      "\u001b[1;31m---------------------------------------------------------------------------\u001b[0m",
      "\u001b[1;31mModuleNotFoundError\u001b[0m                       Traceback (most recent call last)",
      "\u001b[1;32m<ipython-input-1-de2a17cc6321>\u001b[0m in \u001b[0;36m<module>\u001b[1;34m()\u001b[0m\n\u001b[0;32m      1\u001b[0m \u001b[1;32mimport\u001b[0m \u001b[0mos\u001b[0m\u001b[1;33m\u001b[0m\u001b[0m\n\u001b[1;32m----> 2\u001b[1;33m \u001b[1;32mfrom\u001b[0m \u001b[0mkeras\u001b[0m\u001b[1;33m.\u001b[0m\u001b[0mpreprocessing\u001b[0m\u001b[1;33m.\u001b[0m\u001b[0mimage\u001b[0m \u001b[1;32mimport\u001b[0m \u001b[0mImageDataGenerator\u001b[0m\u001b[1;33m,\u001b[0m \u001b[0marray_to_img\u001b[0m\u001b[1;33m,\u001b[0m \u001b[0mimg_to_array\u001b[0m\u001b[1;33m,\u001b[0m \u001b[0mload_img\u001b[0m\u001b[1;33m\u001b[0m\u001b[0m\n\u001b[0m\u001b[0;32m      3\u001b[0m \u001b[1;32mimport\u001b[0m \u001b[0mnumpy\u001b[0m \u001b[1;32mas\u001b[0m \u001b[0mnp\u001b[0m\u001b[1;33m\u001b[0m\u001b[0m\n\u001b[0;32m      4\u001b[0m \u001b[1;33m\u001b[0m\u001b[0m\n\u001b[0;32m      5\u001b[0m \u001b[1;31m# 定义图像生成器\u001b[0m\u001b[1;33m\u001b[0m\u001b[1;33m\u001b[0m\u001b[0m\n",
      "\u001b[1;31mModuleNotFoundError\u001b[0m: No module named 'keras'"
     ]
    }
   ],
   "source": [
    "import os\n",
    "from keras.preprocessing.image import ImageDataGenerator, array_to_img, img_to_array, load_img\n",
    "import numpy as np\n",
    "\n",
    "# 定义图像生成器\n",
    "# rotation_range是一个0~180的度数，用来指定随机选择图片的角度。\n",
    "# width_shift和height_shift用来指定水平和竖直方向随机移动的程度，这是两个0~1之间的比\n",
    "# rescale值将在执行其他处理前乘到整个图像上，我们的图像在RGB通道都是0~255的整数，这样的操作可能使图像的值过高或过低，所以我们将这个值定为0~1之间的数。\n",
    "# shear_range是用来进行错切变换的程度，参考错切变换\n",
    "# zoom_range用来进行随机的放大\n",
    "# horizontal_flip随机的对图片进行水平翻转，这个参数适用于水平翻转不影响图片语义的时候\n",
    "# fill_mode用来指定当需要进行像素填充，如旋转，水平和竖直位移时，如何填充新出现的像素\n",
    "datagen = ImageDataGenerator(\n",
    "    rotation_range = 40,     # 随机旋转角度\n",
    "    width_shift_range = 0.2, # 随机水平平移\n",
    "    height_shift_range = 0.2,# 随机竖直平移\n",
    "    rescale = 1/255,         # 数据归一化\n",
    "    shear_range = 20,        # 随机错切变换\n",
    "    zoom_range = 0.2,        # 随机放大\n",
    "    horizontal_flip = True,  # 水平翻转\n",
    "    fill_mode = 'nearest',)  # 填充方式\n",
    "\n",
    "# 载入图片\n",
    "for t in os.listdir('./images2/images2/'):\n",
    "    for m in  os.listdir(os.path.join('./images2/images2/',t)):\n",
    "        img = load_img(os.path.join('./images2/images2/',t,m))\n",
    "        x = img_to_array(img)\n",
    "        print(x.shape)\n",
    "# 打印结果：\n",
    "# (414, 500, 3)\n",
    "\n",
    "# 扩展维度\n",
    "        x = np.expand_dims(x, 0)\n",
    "        print(x.shape)\n",
    "# 打印结果：\n",
    "# (1, 414, 500, 3)\n",
    "\n",
    "# 生成20张图片\n",
    "        i = 0\n",
    "        for batch in datagen.flow(x, batch_size=1, save_to_dir=os.path.join('./images2/images2/',t), save_prefix='', save_format='jpg'):\n",
    "            i += 1\n",
    "            if i==3:\n",
    "                break\n",
    "        print('finished!')\n"
   ]
  },
  {
   "cell_type": "code",
   "execution_count": null,
   "metadata": {},
   "outputs": [],
   "source": []
  }
 ],
 "metadata": {
  "kernelspec": {
   "display_name": "Python 3",
   "language": "python",
   "name": "python3"
  },
  "language_info": {
   "codemirror_mode": {
    "name": "ipython",
    "version": 3
   },
   "file_extension": ".py",
   "mimetype": "text/x-python",
   "name": "python",
   "nbconvert_exporter": "python",
   "pygments_lexer": "ipython3",
   "version": "3.6.4"
  }
 },
 "nbformat": 4,
 "nbformat_minor": 2
}
